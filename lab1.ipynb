{
 "cells": [
  {
   "cell_type": "markdown",
   "metadata": {},
   "source": [
    "# Лабораторна робота 1 з \"Методів криптоаналізу\"\n",
    "## Тема: Баєсiвський пiдхiд в криптоаналiзi: побудова i дослiдження детермiнiстичної та стохастичної вирiшуючих функцiй.\n",
    "\n",
    "**Виконали**\\\n",
    "Дигас Богдан, ФІ-52мн\\\n",
    "Юрчук Олексій, ФІ-52мн"
   ]
  },
  {
   "cell_type": "code",
   "execution_count": 1,
   "metadata": {},
   "outputs": [],
   "source": [
    "import pandas as pd\n",
    "import os"
   ]
  },
  {
   "cell_type": "code",
   "execution_count": 2,
   "metadata": {},
   "outputs": [],
   "source": [
    "def visualize_probability_data(filepath: str):\n",
    "    if not os.path.exists(filepath):\n",
    "        print(f\"Error: The file '{filepath}' was not found.\")\n",
    "        return\n",
    "\n",
    "    try:\n",
    "        df = pd.read_csv(filepath, nrows=2, header=None)\n",
    "        df.index = ['Opened Texts Probabilities (M)', 'Keys Probabilities (K)']\n",
    "        df.columns = list(range(len(df.columns)))\n",
    "\n",
    "        print(\"Probability Data Table:\")\n",
    "        print(df)\n",
    "\n",
    "    except Exception as e:\n",
    "        print(f\"An error occurred while processing the file: {e}\")"
   ]
  },
  {
   "cell_type": "code",
   "execution_count": 3,
   "metadata": {},
   "outputs": [
    {
     "name": "stdout",
     "output_type": "stream",
     "text": [
      "Probability Data Table:\n",
      "                                  0     1     2     3     4     5     6   \\\n",
      "Opened Texts Probabilities (M)  0.11  0.11  0.11  0.11  0.11  0.03  0.03   \n",
      "Keys Probabilities (K)          0.14  0.14  0.04  0.04  0.04  0.04  0.04   \n",
      "\n",
      "                                  7     8     9     10    11    12    13  \\\n",
      "Opened Texts Probabilities (M)  0.03  0.03  0.03  0.03  0.03  0.03  0.03   \n",
      "Keys Probabilities (K)          0.04  0.04  0.04  0.04  0.04  0.04  0.04   \n",
      "\n",
      "                                  14    15    16    17    18    19  \n",
      "Opened Texts Probabilities (M)  0.03  0.03  0.03  0.03  0.03  0.03  \n",
      "Keys Probabilities (K)          0.04  0.04  0.04  0.04  0.04  0.04  \n"
     ]
    }
   ],
   "source": [
    "file_path = os.path.join('.', 'var_data', 'prob_15.csv')\n",
    "    \n",
    "visualize_probability_data(file_path)"
   ]
  },
  {
   "cell_type": "code",
   "execution_count": 4,
   "metadata": {},
   "outputs": [],
   "source": [
    "def visualize_cipher_table(filepath: str):\n",
    "    if not os.path.exists(filepath):\n",
    "        print(f\"Error: The file '{filepath}' was not found.\")\n",
    "        return\n",
    "\n",
    "    try:\n",
    "        df = pd.read_csv(filepath, header=None)\n",
    "\n",
    "        row_names = [f\"M_{i}\" for i in range(df.shape[0])]\n",
    "        col_names = [f\"K_{i}\" for i in range(df.shape[1])]\n",
    "        df.index = row_names\n",
    "        df.columns = col_names\n",
    "\n",
    "        print(\"Cipher table:\")\n",
    "        print(df)\n",
    "\n",
    "    except Exception as e:\n",
    "        print(f\"An error occurred while processing the file: {e}\")"
   ]
  },
  {
   "cell_type": "code",
   "execution_count": 5,
   "metadata": {},
   "outputs": [
    {
     "name": "stdout",
     "output_type": "stream",
     "text": [
      "Cipher table:\n",
      "      K_0  K_1  K_2  K_3  K_4  K_5  K_6  K_7  K_8  K_9  K_10  K_11  K_12  \\\n",
      "M_0     2   14   17   12    3   15    4    5    0    6     9    16     1   \n",
      "M_1    11   17    4    8   16    3   12   15    0   14     6    19     5   \n",
      "M_2    13   17   15   11    9   10    2    8   18   14     6    19     3   \n",
      "M_3    15    9   17   13   19   11   12    2    3   18     1    14     4   \n",
      "M_4     5    7    4    2   17   13    1   15   12    0     6    14     3   \n",
      "M_5     8   16    6   11    3   17   14   10   19    7     5    18     4   \n",
      "M_6     2    6   13   12    1    7    5    0   15   10     8     3     9   \n",
      "M_7    19   15    4    8   17   18   16    6   10    7     2     1     3   \n",
      "M_8    13    8   18    4   17    3    1   16   10    5     9    19     2   \n",
      "M_9     9    6   15   13    0    1   12    2   19   14    18     4     3   \n",
      "M_10    5   19   12    1    7   17    8    2   16   13     4    14    18   \n",
      "M_11   11   18   10    9   15    6   13   17    1    7     8     5    19   \n",
      "M_12   15   19    7   13   14    2   12    6    9   16     0     5     3   \n",
      "M_13   18    4   15   13   10    2   11   16   12    3     5    17     9   \n",
      "M_14    5   16   10    8   17   18   19   13   15    4     0    14    11   \n",
      "M_15    1    8   18    0    7   16    4    2   11   19    17     6     5   \n",
      "M_16    6   11   15   17    3    9   19   13    5   16    12    14     2   \n",
      "M_17   17   16   19   13    8   10    3    2   12    5    14     7     0   \n",
      "M_18   13   17    6    7   18   11   16    2   19    8    15     9    14   \n",
      "M_19    6   19   12    9    1   16    5   17   18   11     4     8    15   \n",
      "\n",
      "      K_13  K_14  K_15  K_16  K_17  K_18  K_19  \n",
      "M_0      7    13    19    18    11    10     8  \n",
      "M_1      2     7     1    10    18    13     9  \n",
      "M_2     12     7     1     5     0    16     4  \n",
      "M_3      6     8    16     7     5     0    10  \n",
      "M_4     19    10    18     9    16     8    11  \n",
      "M_5      1    12     0     2    13    15     9  \n",
      "M_6     16    18    19    14    11    17     4  \n",
      "M_7      5    11     0    12    13    14     9  \n",
      "M_8      6    11     7    12    14     0    15  \n",
      "M_9      7     8    16    10    11    17     5  \n",
      "M_10    15     3     0     9    10    11     6  \n",
      "M_11     4     2    16     3    14    12     0  \n",
      "M_12     4     8    18     1    11    17    10  \n",
      "M_13     0     6    14     8    19     1     7  \n",
      "M_14     1     9     2    12     6     7     3  \n",
      "M_15    14    10     9    15     3    12    13  \n",
      "M_16     0     4    18     7    10     8     1  \n",
      "M_17    18     1     9     6    15    11     4  \n",
      "M_18     4     3     0     5    10    12     1  \n",
      "M_19    14     7    13     2    10     0     3  \n"
     ]
    }
   ],
   "source": [
    "file_path = os.path.join('.', 'var_data', 'table_15.csv')\n",
    "visualize_cipher_table(file_path)"
   ]
  },
  {
   "cell_type": "code",
   "execution_count": 6,
   "metadata": {},
   "outputs": [],
   "source": [
    "prob_file = os.path.join('.', 'var_data', 'prob_15.csv')\n",
    "table_file = os.path.join('.', 'var_data', 'table_15.csv')"
   ]
  },
  {
   "cell_type": "code",
   "execution_count": 7,
   "metadata": {},
   "outputs": [],
   "source": [
    "from typing import Tuple\n",
    "from decimal import Decimal, getcontext, ROUND_HALF_UP"
   ]
  },
  {
   "cell_type": "code",
   "execution_count": 8,
   "metadata": {},
   "outputs": [],
   "source": [
    "def calculate_ciphertext_probabilities_decimal(\n",
    "    prob_filepath: str,\n",
    "    table_filepath: str,\n",
    "    rounding_digits: int = 7\n",
    ") -> Tuple[pd.Series, pd.Series]:\n",
    "    \"\"\"\n",
    "    Read probability file (first two rows: P(M) then P(K)) and a cipher mapping table.\n",
    "    Returns (p_plaintexts_series, p_ciphertexts_series) with values rounded to `rounding_digits`.\n",
    "    \"\"\"\n",
    "\n",
    "    # safety checks\n",
    "    if not os.path.exists(prob_filepath):\n",
    "        raise FileNotFoundError(f\"Probability file not found: {prob_filepath}\")\n",
    "    if not os.path.exists(table_filepath):\n",
    "        raise FileNotFoundError(f\"Cipher table file not found: {table_filepath}\")\n",
    "\n",
    "    # Set Decimal precision sufficiently high for multiplications\n",
    "    getcontext().prec = 50\n",
    "\n",
    "    # --- Read probability table (first two rows) ---\n",
    "    prob_df = pd.read_csv(prob_filepath, nrows=2, header=None)\n",
    "    # Convert to Decimal list (use str() to avoid float->Decimal surprises)\n",
    "    p_m_list = [Decimal(str(v)) for v in prob_df.iloc[0].tolist()]\n",
    "    p_k_list = [Decimal(str(v)) for v in prob_df.iloc[1].tolist()]\n",
    "\n",
    "    # --- Read cipher mapping table ---\n",
    "    cipher_df = pd.read_csv(table_filepath, header=None)\n",
    "    cipher_np = cipher_df.to_numpy(dtype=int)\n",
    "    max_cipher_index = int(cipher_np.max())\n",
    "\n",
    "    # Initialize P(C) with Decimal zeros\n",
    "    p_c = [Decimal('0') for _ in range(max_cipher_index + 1)]\n",
    "\n",
    "    # --- Accumulate with Decimal precision ---\n",
    "    rows = cipher_df.shape[0]\n",
    "    cols = cipher_df.shape[1]\n",
    "    for i in range(rows):            # plaintext index i -> M_i\n",
    "        for j in range(cols):        # key index j -> K_j\n",
    "            c_idx = int(cipher_df.iat[i, j])\n",
    "            p_c[c_idx] += p_m_list[i] * p_k_list[j]\n",
    "\n",
    "    # --- Normalize (protect against tiny numeric drift) ---\n",
    "    total = sum(p_c)\n",
    "    if total == Decimal('0'):\n",
    "        raise ValueError(\"Computed total probability is zero.\")\n",
    "    # scale so sum == 1\n",
    "    p_c = [pc / total for pc in p_c]\n",
    "\n",
    "    # --- Round / quantize to requested digits ---\n",
    "    quant_str = '1e-' + str(rounding_digits)\n",
    "    quant = Decimal(quant_str)\n",
    "    p_c_rounded = [pc.quantize(quant, rounding=ROUND_HALF_UP) for pc in p_c]\n",
    "    p_m_rounded = [pm.quantize(quant, rounding=ROUND_HALF_UP) for pm in p_m_list]\n",
    "\n",
    "    # Re-normalize after quantize to ensure summed rounding is consistent (optional)\n",
    "    # If you want the final rounded P(C) to sum exactly to 1, we can adjust the largest element slightly.\n",
    "    sum_rounded = sum(p_c_rounded)\n",
    "    if sum_rounded != Decimal('1'):\n",
    "        diff = Decimal('1') - sum_rounded\n",
    "        # add diff to the largest P(C) to keep things consistent\n",
    "        max_idx = int(pd.Series(p_c_rounded).idxmax())\n",
    "        p_c_rounded[max_idx] = (p_c_rounded[max_idx] + diff).quantize(quant, rounding=ROUND_HALF_UP)\n",
    "\n",
    "    # Build pandas Series with readable labels\n",
    "    p_plaintexts = pd.Series(\n",
    "        [float(x) for x in p_m_rounded],\n",
    "        index=[f\"M_{i}\" for i in range(len(p_m_rounded))]\n",
    "    )\n",
    "    p_ciphertexts = pd.Series(\n",
    "        [float(x) for x in p_c_rounded],\n",
    "        index=[f\"C_{i}\" for i in range(len(p_c_rounded))]\n",
    "    )\n",
    "\n",
    "    return p_plaintexts, p_ciphertexts"
   ]
  },
  {
   "cell_type": "markdown",
   "metadata": {},
   "source": [
    "ТОЧНІСТЬ ДО P(C) додати"
   ]
  },
  {
   "cell_type": "code",
   "execution_count": 9,
   "metadata": {},
   "outputs": [
    {
     "name": "stdout",
     "output_type": "stream",
     "text": [
      "Розраховані ймовірності P(C) для кожного шифротексту:\n",
      "C_0     0.040\n",
      "C_1     0.043\n",
      "C_2     0.054\n",
      "C_3     0.040\n",
      "C_4     0.043\n",
      "C_5     0.057\n",
      "C_6     0.052\n",
      "C_7     0.051\n",
      "C_8     0.049\n",
      "C_9     0.054\n",
      "C_10    0.040\n",
      "C_11    0.057\n",
      "C_12    0.040\n",
      "C_13    0.057\n",
      "C_14    0.051\n",
      "C_15    0.057\n",
      "C_16    0.049\n",
      "C_17    0.068\n",
      "C_18    0.046\n",
      "C_19    0.052\n",
      "dtype: float64\n",
      "\n",
      "Сума всіх ймовірностей P(C) має дорівнювати 1:\n",
      "Сума: 1.0000000\n"
     ]
    }
   ],
   "source": [
    "p_plaintexts, p_ciphertexts = calculate_ciphertext_probabilities_decimal(prob_file, table_file, rounding_digits=7)\n",
    "\n",
    "if not p_plaintexts.empty and not p_ciphertexts.empty:\n",
    "    print(\"Розраховані ймовірності P(C) для кожного шифротексту:\")\n",
    "    print(p_ciphertexts)\n",
    "    print(\"\\nСума всіх ймовірностей P(C) має дорівнювати 1:\")\n",
    "    print(f\"Сума: {p_ciphertexts.sum():.7f}\")"
   ]
  },
  {
   "cell_type": "code",
   "execution_count": 10,
   "metadata": {},
   "outputs": [],
   "source": [
    "def calculate_joint_probabilities(p_plaintexts: pd.Series, p_ciphertexts: pd.Series) -> pd.DataFrame:\n",
    "    if p_plaintexts.empty or p_ciphertexts.empty:\n",
    "        print(\"Помилка: Вхідні дані для обчислення P(M, C) відсутні.\")\n",
    "        return pd.DataFrame()\n",
    "\n",
    "    joint_prob_df = pd.DataFrame(index=p_plaintexts.index, columns=p_ciphertexts.index)\n",
    "    \n",
    "    for m_idx in p_plaintexts.index:\n",
    "        for c_idx in p_ciphertexts.index:\n",
    "            p_m = p_plaintexts.loc[m_idx]\n",
    "            p_c = p_ciphertexts.loc[c_idx]\n",
    "            joint_prob_df.loc[m_idx, c_idx] = p_m * p_c # P(M_i, C_j) = P(M_i) * P(C_j) - independence\n",
    "\n",
    "    joint_prob_df.index = [f\"M_{i}\" for i in joint_prob_df.index]\n",
    "    joint_prob_df.columns = [f\"C_{int(i)}\" for i in joint_prob_df.columns]\n",
    "\n",
    "    return joint_prob_df"
   ]
  },
  {
   "cell_type": "code",
   "execution_count": 11,
   "metadata": {},
   "outputs": [
    {
     "ename": "NameError",
     "evalue": "name 'calculate_ciphertext_probabilities' is not defined",
     "output_type": "error",
     "traceback": [
      "\u001b[31m---------------------------------------------------------------------------\u001b[39m",
      "\u001b[31mNameError\u001b[39m                                 Traceback (most recent call last)",
      "\u001b[36mCell\u001b[39m\u001b[36m \u001b[39m\u001b[32mIn[11]\u001b[39m\u001b[32m, line 4\u001b[39m\n\u001b[32m      1\u001b[39m prob_file = os.path.join(\u001b[33m'\u001b[39m\u001b[33m.\u001b[39m\u001b[33m'\u001b[39m, \u001b[33m'\u001b[39m\u001b[33mvar_data\u001b[39m\u001b[33m'\u001b[39m, \u001b[33m'\u001b[39m\u001b[33mprob_15.csv\u001b[39m\u001b[33m'\u001b[39m)\n\u001b[32m      2\u001b[39m table_file = os.path.join(\u001b[33m'\u001b[39m\u001b[33m.\u001b[39m\u001b[33m'\u001b[39m, \u001b[33m'\u001b[39m\u001b[33mvar_data\u001b[39m\u001b[33m'\u001b[39m, \u001b[33m'\u001b[39m\u001b[33mtable_15.csv\u001b[39m\u001b[33m'\u001b[39m)\n\u001b[32m----> \u001b[39m\u001b[32m4\u001b[39m p_plaintexts, p_ciphertexts = \u001b[43mcalculate_ciphertext_probabilities\u001b[49m(prob_file, table_file)\n\u001b[32m      6\u001b[39m \u001b[38;5;28;01mif\u001b[39;00m \u001b[38;5;129;01mnot\u001b[39;00m p_plaintexts.empty \u001b[38;5;129;01mand\u001b[39;00m \u001b[38;5;129;01mnot\u001b[39;00m p_ciphertexts.empty:\n\u001b[32m      7\u001b[39m     joint_probabilities = calculate_joint_probabilities(p_plaintexts, p_ciphertexts)\n",
      "\u001b[31mNameError\u001b[39m: name 'calculate_ciphertext_probabilities' is not defined"
     ]
    }
   ],
   "source": [
    "prob_file = os.path.join('.', 'var_data', 'prob_15.csv')\n",
    "table_file = os.path.join('.', 'var_data', 'table_15.csv')\n",
    "\n",
    "p_plaintexts, p_ciphertexts = calculate_ciphertext_probabilities(prob_file, table_file)\n",
    "    \n",
    "if not p_plaintexts.empty and not p_ciphertexts.empty:\n",
    "    joint_probabilities = calculate_joint_probabilities(p_plaintexts, p_ciphertexts)\n",
    "        \n",
    "    if not joint_probabilities.empty:\n",
    "        print(\"Таблиця спільних ймовірностей P(M, C):\")\n",
    "        print(joint_probabilities)\n",
    "        print(\"\\nСума всіх ймовірностей P(М, C) має дорівнювати 1:\")\n",
    "        print(f\"Сума: {joint_probabilities.values.sum():.6f}\")"
   ]
  },
  {
   "cell_type": "code",
   "execution_count": null,
   "metadata": {},
   "outputs": [],
   "source": [
    "def calculate_conditional_probabilities(joint_probabilities: pd.DataFrame, p_ciphertexts: pd.Series) -> pd.DataFrame:\n",
    "    if joint_probabilities.empty or p_ciphertexts.empty:\n",
    "        print(\"Помилка: Вхідні дані для обчислення P(M|C) відсутні.\")\n",
    "        return pd.DataFrame()\n",
    "\n",
    "    conditional_prob_df = joint_probabilities.copy()\n",
    "\n",
    "    for c_idx in p_ciphertexts.index:\n",
    "\n",
    "        col_name = f\"C_{int(c_idx)}\"\n",
    "        p_c = p_ciphertexts.loc[c_idx]\n",
    "\n",
    "        if p_c > 0:\n",
    "            conditional_prob_df.loc[:, col_name] = joint_probabilities.loc[:, col_name] / p_c\n",
    "        else:\n",
    "            conditional_prob_df.loc[:, col_name] = 0\n",
    "\n",
    "    return conditional_prob_df"
   ]
  },
  {
   "cell_type": "code",
   "execution_count": null,
   "metadata": {},
   "outputs": [
    {
     "name": "stdout",
     "output_type": "stream",
     "text": [
      "Таблиця умовних ймовірностей P(M|C):\n",
      "       C_0   C_1   C_2   C_3   C_4   C_5   C_6   C_7   C_8   C_9  C_10  C_11  \\\n",
      "M_0   0.11  0.11  0.11  0.11  0.11  0.11  0.11  0.11  0.11  0.11  0.11  0.11   \n",
      "M_1   0.11  0.11  0.11  0.11  0.11  0.11  0.11  0.11  0.11  0.11  0.11  0.11   \n",
      "M_2   0.11  0.11  0.11  0.11  0.11  0.11  0.11  0.11  0.11  0.11  0.11  0.11   \n",
      "M_3   0.11  0.11  0.11  0.11  0.11  0.11  0.11  0.11  0.11  0.11  0.11  0.11   \n",
      "M_4   0.11  0.11  0.11  0.11  0.11  0.11  0.11  0.11  0.11  0.11  0.11  0.11   \n",
      "M_5   0.03  0.03  0.03  0.03  0.03  0.03  0.03  0.03  0.03  0.03  0.03  0.03   \n",
      "M_6   0.03  0.03  0.03  0.03  0.03  0.03  0.03  0.03  0.03  0.03  0.03  0.03   \n",
      "M_7   0.03  0.03  0.03  0.03  0.03  0.03  0.03  0.03  0.03  0.03  0.03  0.03   \n",
      "M_8   0.03  0.03  0.03  0.03  0.03  0.03  0.03  0.03  0.03  0.03  0.03  0.03   \n",
      "M_9   0.03  0.03  0.03  0.03  0.03  0.03  0.03  0.03  0.03  0.03  0.03  0.03   \n",
      "M_10  0.03  0.03  0.03  0.03  0.03  0.03  0.03  0.03  0.03  0.03  0.03  0.03   \n",
      "M_11  0.03  0.03  0.03  0.03  0.03  0.03  0.03  0.03  0.03  0.03  0.03  0.03   \n",
      "M_12  0.03  0.03  0.03  0.03  0.03  0.03  0.03  0.03  0.03  0.03  0.03  0.03   \n",
      "M_13  0.03  0.03  0.03  0.03  0.03  0.03  0.03  0.03  0.03  0.03  0.03  0.03   \n",
      "M_14  0.03  0.03  0.03  0.03  0.03  0.03  0.03  0.03  0.03  0.03  0.03  0.03   \n",
      "M_15  0.03  0.03  0.03  0.03  0.03  0.03  0.03  0.03  0.03  0.03  0.03  0.03   \n",
      "M_16  0.03  0.03  0.03  0.03  0.03  0.03  0.03  0.03  0.03  0.03  0.03  0.03   \n",
      "M_17  0.03  0.03  0.03  0.03  0.03  0.03  0.03  0.03  0.03  0.03  0.03  0.03   \n",
      "M_18  0.03  0.03  0.03  0.03  0.03  0.03  0.03  0.03  0.03  0.03  0.03  0.03   \n",
      "M_19  0.03  0.03  0.03  0.03  0.03  0.03  0.03  0.03  0.03  0.03  0.03  0.03   \n",
      "\n",
      "      C_12  C_13  C_14  C_15  C_16  C_17  C_18  C_19  \n",
      "M_0   0.11  0.11  0.11  0.11  0.11  0.11  0.11  0.11  \n",
      "M_1   0.11  0.11  0.11  0.11  0.11  0.11  0.11  0.11  \n",
      "M_2   0.11  0.11  0.11  0.11  0.11  0.11  0.11  0.11  \n",
      "M_3   0.11  0.11  0.11  0.11  0.11  0.11  0.11  0.11  \n",
      "M_4   0.11  0.11  0.11  0.11  0.11  0.11  0.11  0.11  \n",
      "M_5   0.03  0.03  0.03  0.03  0.03  0.03  0.03  0.03  \n",
      "M_6   0.03  0.03  0.03  0.03  0.03  0.03  0.03  0.03  \n",
      "M_7   0.03  0.03  0.03  0.03  0.03  0.03  0.03  0.03  \n",
      "M_8   0.03  0.03  0.03  0.03  0.03  0.03  0.03  0.03  \n",
      "M_9   0.03  0.03  0.03  0.03  0.03  0.03  0.03  0.03  \n",
      "M_10  0.03  0.03  0.03  0.03  0.03  0.03  0.03  0.03  \n",
      "M_11  0.03  0.03  0.03  0.03  0.03  0.03  0.03  0.03  \n",
      "M_12  0.03  0.03  0.03  0.03  0.03  0.03  0.03  0.03  \n",
      "M_13  0.03  0.03  0.03  0.03  0.03  0.03  0.03  0.03  \n",
      "M_14  0.03  0.03  0.03  0.03  0.03  0.03  0.03  0.03  \n",
      "M_15  0.03  0.03  0.03  0.03  0.03  0.03  0.03  0.03  \n",
      "M_16  0.03  0.03  0.03  0.03  0.03  0.03  0.03  0.03  \n",
      "M_17  0.03  0.03  0.03  0.03  0.03  0.03  0.03  0.03  \n",
      "M_18  0.03  0.03  0.03  0.03  0.03  0.03  0.03  0.03  \n",
      "M_19  0.03  0.03  0.03  0.03  0.03  0.03  0.03  0.03  \n",
      "\n",
      "Перевірка суми стовпців (кожен стовпець має дорівнювати 1):\n",
      "C_0     1.0\n",
      "C_1     1.0\n",
      "C_2     1.0\n",
      "C_3     1.0\n",
      "C_4     1.0\n",
      "C_5     1.0\n",
      "C_6     1.0\n",
      "C_7     1.0\n",
      "C_8     1.0\n",
      "C_9     1.0\n",
      "C_10    1.0\n",
      "C_11    1.0\n",
      "C_12    1.0\n",
      "C_13    1.0\n",
      "C_14    1.0\n",
      "C_15    1.0\n",
      "C_16    1.0\n",
      "C_17    1.0\n",
      "C_18    1.0\n",
      "C_19    1.0\n",
      "dtype: object\n"
     ]
    }
   ],
   "source": [
    "conditional_probabilities = calculate_conditional_probabilities(joint_probabilities, p_ciphertexts)\n",
    "            \n",
    "if not conditional_probabilities.empty:\n",
    "    print(\"Таблиця умовних ймовірностей P(M|C):\")\n",
    "    print(conditional_probabilities)\n",
    "    \n",
    "    print(\"\\nПеревірка суми стовпців (кожен стовпець має дорівнювати 1):\")\n",
    "    column_sums = conditional_probabilities.sum(axis=0)\n",
    "    print(column_sums)"
   ]
  },
  {
   "cell_type": "code",
   "execution_count": null,
   "metadata": {},
   "outputs": [],
   "source": [
    "def find_optimal_decision_function(conditional_probabilities: pd.DataFrame) -> pd.Series: \n",
    "    if conditional_probabilities.empty:\n",
    "        print(\"Помилка: Вхідні дані для визначення детермінованої функції відсутні.\")\n",
    "        return pd.Series(dtype=str)\n",
    "\n",
    "    optimal_decisions = conditional_probabilities.idxmax(axis=1) # \\delta(C_D) = max(P(M_i | C_D))\n",
    "\n",
    "    return optimal_decisions"
   ]
  },
  {
   "cell_type": "code",
   "execution_count": null,
   "metadata": {},
   "outputs": [
    {
     "name": "stdout",
     "output_type": "stream",
     "text": [
      "Оптимальна детермінована функція рішення δ(C):\n",
      "M_0     C_18\n",
      "M_1     C_18\n",
      "M_2     C_18\n",
      "M_3     C_18\n",
      "M_4     C_18\n",
      "M_5      C_6\n",
      "M_6      C_6\n",
      "M_7      C_6\n",
      "M_8      C_6\n",
      "M_9      C_6\n",
      "M_10     C_6\n",
      "M_11     C_6\n",
      "M_12     C_6\n",
      "M_13     C_6\n",
      "M_14     C_6\n",
      "M_15     C_6\n",
      "M_16     C_6\n",
      "M_17     C_6\n",
      "M_18     C_6\n",
      "M_19     C_6\n",
      "dtype: object\n"
     ]
    }
   ],
   "source": [
    "if not conditional_probabilities.empty:\n",
    "    optimal_decisions = find_optimal_decision_function(conditional_probabilities)\n",
    "    if not optimal_decisions.empty:\n",
    "        print(\"Оптимальна детермінована функція рішення δ(C):\")\n",
    "        print(optimal_decisions)"
   ]
  },
  {
   "cell_type": "code",
   "execution_count": null,
   "metadata": {},
   "outputs": [],
   "source": [
    "def calculate_stochastic_function(p_plaintexts: pd.Series, p_ciphertexts: pd.Series) -> pd.DataFrame:\n",
    "    if p_plaintexts.empty or p_ciphertexts.empty:\n",
    "        print(\"Помилка: Вхідні дані для побудови стохастичної функції відсутні.\")\n",
    "        return pd.DataFrame()\n",
    "\n",
    "    num_plaintexts = len(p_plaintexts)    \n",
    "    uniform_prob = 1.0 / num_plaintexts # Format \n",
    "    \n",
    "    stochastic_matrix = pd.DataFrame(\n",
    "        uniform_prob, \n",
    "        index=p_plaintexts.index, \n",
    "        columns=p_ciphertexts.index\n",
    "    )\n",
    "\n",
    "    stochastic_matrix.index = [f\"M_{i}\" for i in stochastic_matrix.index]\n",
    "    stochastic_matrix.columns = [f\"C_{int(i)}\" for i in stochastic_matrix.columns]\n",
    "\n",
    "    return stochastic_matrix"
   ]
  },
  {
   "cell_type": "code",
   "execution_count": null,
   "metadata": {},
   "outputs": [
    {
     "name": "stdout",
     "output_type": "stream",
     "text": [
      "Матриця стохастичної функції рішення δ_S:\n",
      "       C_0   C_1   C_2   C_3   C_4   C_5   C_6   C_7   C_8   C_9  C_10  C_11  \\\n",
      "M_0   0.05  0.05  0.05  0.05  0.05  0.05  0.05  0.05  0.05  0.05  0.05  0.05   \n",
      "M_1   0.05  0.05  0.05  0.05  0.05  0.05  0.05  0.05  0.05  0.05  0.05  0.05   \n",
      "M_2   0.05  0.05  0.05  0.05  0.05  0.05  0.05  0.05  0.05  0.05  0.05  0.05   \n",
      "M_3   0.05  0.05  0.05  0.05  0.05  0.05  0.05  0.05  0.05  0.05  0.05  0.05   \n",
      "M_4   0.05  0.05  0.05  0.05  0.05  0.05  0.05  0.05  0.05  0.05  0.05  0.05   \n",
      "M_5   0.05  0.05  0.05  0.05  0.05  0.05  0.05  0.05  0.05  0.05  0.05  0.05   \n",
      "M_6   0.05  0.05  0.05  0.05  0.05  0.05  0.05  0.05  0.05  0.05  0.05  0.05   \n",
      "M_7   0.05  0.05  0.05  0.05  0.05  0.05  0.05  0.05  0.05  0.05  0.05  0.05   \n",
      "M_8   0.05  0.05  0.05  0.05  0.05  0.05  0.05  0.05  0.05  0.05  0.05  0.05   \n",
      "M_9   0.05  0.05  0.05  0.05  0.05  0.05  0.05  0.05  0.05  0.05  0.05  0.05   \n",
      "M_10  0.05  0.05  0.05  0.05  0.05  0.05  0.05  0.05  0.05  0.05  0.05  0.05   \n",
      "M_11  0.05  0.05  0.05  0.05  0.05  0.05  0.05  0.05  0.05  0.05  0.05  0.05   \n",
      "M_12  0.05  0.05  0.05  0.05  0.05  0.05  0.05  0.05  0.05  0.05  0.05  0.05   \n",
      "M_13  0.05  0.05  0.05  0.05  0.05  0.05  0.05  0.05  0.05  0.05  0.05  0.05   \n",
      "M_14  0.05  0.05  0.05  0.05  0.05  0.05  0.05  0.05  0.05  0.05  0.05  0.05   \n",
      "M_15  0.05  0.05  0.05  0.05  0.05  0.05  0.05  0.05  0.05  0.05  0.05  0.05   \n",
      "M_16  0.05  0.05  0.05  0.05  0.05  0.05  0.05  0.05  0.05  0.05  0.05  0.05   \n",
      "M_17  0.05  0.05  0.05  0.05  0.05  0.05  0.05  0.05  0.05  0.05  0.05  0.05   \n",
      "M_18  0.05  0.05  0.05  0.05  0.05  0.05  0.05  0.05  0.05  0.05  0.05  0.05   \n",
      "M_19  0.05  0.05  0.05  0.05  0.05  0.05  0.05  0.05  0.05  0.05  0.05  0.05   \n",
      "\n",
      "      C_12  C_13  C_14  C_15  C_16  C_17  C_18  C_19  \n",
      "M_0   0.05  0.05  0.05  0.05  0.05  0.05  0.05  0.05  \n",
      "M_1   0.05  0.05  0.05  0.05  0.05  0.05  0.05  0.05  \n",
      "M_2   0.05  0.05  0.05  0.05  0.05  0.05  0.05  0.05  \n",
      "M_3   0.05  0.05  0.05  0.05  0.05  0.05  0.05  0.05  \n",
      "M_4   0.05  0.05  0.05  0.05  0.05  0.05  0.05  0.05  \n",
      "M_5   0.05  0.05  0.05  0.05  0.05  0.05  0.05  0.05  \n",
      "M_6   0.05  0.05  0.05  0.05  0.05  0.05  0.05  0.05  \n",
      "M_7   0.05  0.05  0.05  0.05  0.05  0.05  0.05  0.05  \n",
      "M_8   0.05  0.05  0.05  0.05  0.05  0.05  0.05  0.05  \n",
      "M_9   0.05  0.05  0.05  0.05  0.05  0.05  0.05  0.05  \n",
      "M_10  0.05  0.05  0.05  0.05  0.05  0.05  0.05  0.05  \n",
      "M_11  0.05  0.05  0.05  0.05  0.05  0.05  0.05  0.05  \n",
      "M_12  0.05  0.05  0.05  0.05  0.05  0.05  0.05  0.05  \n",
      "M_13  0.05  0.05  0.05  0.05  0.05  0.05  0.05  0.05  \n",
      "M_14  0.05  0.05  0.05  0.05  0.05  0.05  0.05  0.05  \n",
      "M_15  0.05  0.05  0.05  0.05  0.05  0.05  0.05  0.05  \n",
      "M_16  0.05  0.05  0.05  0.05  0.05  0.05  0.05  0.05  \n",
      "M_17  0.05  0.05  0.05  0.05  0.05  0.05  0.05  0.05  \n",
      "M_18  0.05  0.05  0.05  0.05  0.05  0.05  0.05  0.05  \n",
      "M_19  0.05  0.05  0.05  0.05  0.05  0.05  0.05  0.05  \n",
      "\n",
      "Перевірка суми рядків (кожен рядок має дорівнювати 1):\n",
      "M_0     1.0\n",
      "M_1     1.0\n",
      "M_2     1.0\n",
      "M_3     1.0\n",
      "M_4     1.0\n",
      "M_5     1.0\n",
      "M_6     1.0\n",
      "M_7     1.0\n",
      "M_8     1.0\n",
      "M_9     1.0\n",
      "M_10    1.0\n",
      "M_11    1.0\n",
      "M_12    1.0\n",
      "M_13    1.0\n",
      "M_14    1.0\n",
      "M_15    1.0\n",
      "M_16    1.0\n",
      "M_17    1.0\n",
      "M_18    1.0\n",
      "M_19    1.0\n",
      "dtype: float64\n"
     ]
    }
   ],
   "source": [
    "stochastic_function = calculate_stochastic_function(p_plaintexts, p_ciphertexts)\n",
    "if not stochastic_function.empty:\n",
    "    print(\"Матриця стохастичної функції рішення δ_S:\")\n",
    "    print(stochastic_function)\n",
    "    \n",
    "    print(\"\\nПеревірка суми рядків (кожен рядок має дорівнювати 1):\")\n",
    "    row_sums = stochastic_function.sum(axis=1)\n",
    "    print(row_sums)"
   ]
  },
  {
   "cell_type": "markdown",
   "metadata": {},
   "source": [
    "---"
   ]
  },
  {
   "cell_type": "code",
   "execution_count": null,
   "metadata": {},
   "outputs": [],
   "source": [
    "def extract_optimal_probabilities(optimal_decisions: pd.Series, conditional_probabilities: pd.DataFrame) -> pd.Series:\n",
    "    if optimal_decisions.empty or conditional_probabilities.empty:\n",
    "        print(\"Помилка: Вхідні дані для виділення оптимальних ймовірностей відсутні.\")\n",
    "        return pd.Series(dtype=float)\n",
    "        \n",
    "    optimal_probabilities = pd.Series(index=optimal_decisions.index, dtype=float)\n",
    "\n",
    "    for c_label, m_label in optimal_decisions.items():\n",
    "        try:\n",
    "            optimal_probabilities.loc[c_label] = conditional_probabilities.loc[m_label, c_label]\n",
    "        except KeyError:\n",
    "            print(f\"Помилка: Не вдалося знайти ймовірність для M='{m_label}', C='{c_label}'.\")\n",
    "\n",
    "    return optimal_probabilities"
   ]
  },
  {
   "cell_type": "code",
   "execution_count": null,
   "metadata": {},
   "outputs": [
    {
     "name": "stdout",
     "output_type": "stream",
     "text": [
      "Помилка: Не вдалося знайти ймовірність для M='C_18', C='M_0'.\n",
      "Помилка: Не вдалося знайти ймовірність для M='C_18', C='M_1'.\n",
      "Помилка: Не вдалося знайти ймовірність для M='C_18', C='M_2'.\n",
      "Помилка: Не вдалося знайти ймовірність для M='C_18', C='M_3'.\n",
      "Помилка: Не вдалося знайти ймовірність для M='C_18', C='M_4'.\n",
      "Помилка: Не вдалося знайти ймовірність для M='C_6', C='M_5'.\n",
      "Помилка: Не вдалося знайти ймовірність для M='C_6', C='M_6'.\n",
      "Помилка: Не вдалося знайти ймовірність для M='C_6', C='M_7'.\n",
      "Помилка: Не вдалося знайти ймовірність для M='C_6', C='M_8'.\n",
      "Помилка: Не вдалося знайти ймовірність для M='C_6', C='M_9'.\n",
      "Помилка: Не вдалося знайти ймовірність для M='C_6', C='M_10'.\n",
      "Помилка: Не вдалося знайти ймовірність для M='C_6', C='M_11'.\n",
      "Помилка: Не вдалося знайти ймовірність для M='C_6', C='M_12'.\n",
      "Помилка: Не вдалося знайти ймовірність для M='C_6', C='M_13'.\n",
      "Помилка: Не вдалося знайти ймовірність для M='C_6', C='M_14'.\n",
      "Помилка: Не вдалося знайти ймовірність для M='C_6', C='M_15'.\n",
      "Помилка: Не вдалося знайти ймовірність для M='C_6', C='M_16'.\n",
      "Помилка: Не вдалося знайти ймовірність для M='C_6', C='M_17'.\n",
      "Помилка: Не вдалося знайти ймовірність для M='C_6', C='M_18'.\n",
      "Помилка: Не вдалося знайти ймовірність для M='C_6', C='M_19'.\n",
      "\n",
      "Умовні ймовірності для оптимальних рішень:\n",
      "M_0    NaN\n",
      "M_1    NaN\n",
      "M_2    NaN\n",
      "M_3    NaN\n",
      "M_4    NaN\n",
      "M_5    NaN\n",
      "M_6    NaN\n",
      "M_7    NaN\n",
      "M_8    NaN\n",
      "M_9    NaN\n",
      "M_10   NaN\n",
      "M_11   NaN\n",
      "M_12   NaN\n",
      "M_13   NaN\n",
      "M_14   NaN\n",
      "M_15   NaN\n",
      "M_16   NaN\n",
      "M_17   NaN\n",
      "M_18   NaN\n",
      "M_19   NaN\n",
      "dtype: float64\n"
     ]
    }
   ],
   "source": [
    "extracted_probs = extract_optimal_probabilities(optimal_decisions, conditional_probabilities)\n",
    "print(\"\\nУмовні ймовірності для оптимальних рішень:\")\n",
    "print(extracted_probs)"
   ]
  },
  {
   "cell_type": "code",
   "execution_count": null,
   "metadata": {},
   "outputs": [],
   "source": [
    "def count_optimal_plaintexts(conditional_probabilities: pd.DataFrame) -> pd.Series:\n",
    "    if conditional_probabilities.empty:\n",
    "        print(\"Помилка: Вхідна таблиця умовних ймовірностей порожня.\")\n",
    "        return pd.Series(dtype=int)\n",
    "    \n",
    "    max_probs = conditional_probabilities.max(axis=0)\n",
    "    optimal_count = (conditional_probabilities == max_probs).sum(axis=0)\n",
    "    \n",
    "    return optimal_count"
   ]
  },
  {
   "cell_type": "code",
   "execution_count": null,
   "metadata": {},
   "outputs": [
    {
     "name": "stdout",
     "output_type": "stream",
     "text": [
      "\n",
      "Кількість відкритих текстів з максимальною умовною ймовірністю:\n",
      "C_0     5\n",
      "C_1     5\n",
      "C_2     5\n",
      "C_3     5\n",
      "C_4     5\n",
      "C_5     5\n",
      "C_6     5\n",
      "C_7     5\n",
      "C_8     5\n",
      "C_9     5\n",
      "C_10    5\n",
      "C_11    5\n",
      "C_12    5\n",
      "C_13    5\n",
      "C_14    5\n",
      "C_15    5\n",
      "C_16    5\n",
      "C_17    5\n",
      "C_18    5\n",
      "C_19    5\n",
      "dtype: int64\n"
     ]
    }
   ],
   "source": [
    "optimal_counts = count_optimal_plaintexts(conditional_probabilities)\n",
    "print(\"\\nКількість відкритих текстів з максимальною умовною ймовірністю:\")\n",
    "print(optimal_counts)"
   ]
  },
  {
   "cell_type": "code",
   "execution_count": null,
   "metadata": {},
   "outputs": [],
   "source": [
    "def create_improved_stochastic_function(conditional_probabilities: pd.DataFrame) -> pd.DataFrame:\n",
    "    if conditional_probabilities.empty:\n",
    "        print(\"Помилка: Вхідна таблиця умовних ймовірностей порожня.\")\n",
    "        return pd.DataFrame()\n",
    "    \n",
    "    improved_matrix = pd.DataFrame(0.0, index=conditional_probabilities.index, columns=conditional_probabilities.columns)\n",
    "\n",
    "    for column in conditional_probabilities.columns:\n",
    "        max_prob = conditional_probabilities[column].max()\n",
    "        \n",
    "        if max_prob > 0: # Find all rows (plaintexts) that have chosen maximum probability\n",
    "            optimal_plaintexts = conditional_probabilities[conditional_probabilities[column] == max_prob].index \n",
    "            num_optimal = len(optimal_plaintexts)\n",
    "            \n",
    "            if num_optimal > 0:\n",
    "                probability_to_assign = 1.0 / num_optimal\n",
    "                improved_matrix.loc[optimal_plaintexts, column] = probability_to_assign\n",
    "    \n",
    "    return improved_matrix"
   ]
  },
  {
   "cell_type": "code",
   "execution_count": null,
   "metadata": {},
   "outputs": [
    {
     "name": "stdout",
     "output_type": "stream",
     "text": [
      "Покращена стохастична функція:\n",
      "      C_0  C_1  C_2  C_3  C_4  C_5  C_6  C_7  C_8  C_9  C_10  C_11  C_12  \\\n",
      "M_0   0.2  0.2  0.2  0.2  0.2  0.2  0.2  0.2  0.2  0.2   0.2   0.2   0.2   \n",
      "M_1   0.2  0.2  0.2  0.2  0.2  0.2  0.2  0.2  0.2  0.2   0.2   0.2   0.2   \n",
      "M_2   0.2  0.2  0.2  0.2  0.2  0.2  0.2  0.2  0.2  0.2   0.2   0.2   0.2   \n",
      "M_3   0.2  0.2  0.2  0.2  0.2  0.2  0.2  0.2  0.2  0.2   0.2   0.2   0.2   \n",
      "M_4   0.2  0.2  0.2  0.2  0.2  0.2  0.2  0.2  0.2  0.2   0.2   0.2   0.2   \n",
      "M_5   0.0  0.0  0.0  0.0  0.0  0.0  0.0  0.0  0.0  0.0   0.0   0.0   0.0   \n",
      "M_6   0.0  0.0  0.0  0.0  0.0  0.0  0.0  0.0  0.0  0.0   0.0   0.0   0.0   \n",
      "M_7   0.0  0.0  0.0  0.0  0.0  0.0  0.0  0.0  0.0  0.0   0.0   0.0   0.0   \n",
      "M_8   0.0  0.0  0.0  0.0  0.0  0.0  0.0  0.0  0.0  0.0   0.0   0.0   0.0   \n",
      "M_9   0.0  0.0  0.0  0.0  0.0  0.0  0.0  0.0  0.0  0.0   0.0   0.0   0.0   \n",
      "M_10  0.0  0.0  0.0  0.0  0.0  0.0  0.0  0.0  0.0  0.0   0.0   0.0   0.0   \n",
      "M_11  0.0  0.0  0.0  0.0  0.0  0.0  0.0  0.0  0.0  0.0   0.0   0.0   0.0   \n",
      "M_12  0.0  0.0  0.0  0.0  0.0  0.0  0.0  0.0  0.0  0.0   0.0   0.0   0.0   \n",
      "M_13  0.0  0.0  0.0  0.0  0.0  0.0  0.0  0.0  0.0  0.0   0.0   0.0   0.0   \n",
      "M_14  0.0  0.0  0.0  0.0  0.0  0.0  0.0  0.0  0.0  0.0   0.0   0.0   0.0   \n",
      "M_15  0.0  0.0  0.0  0.0  0.0  0.0  0.0  0.0  0.0  0.0   0.0   0.0   0.0   \n",
      "M_16  0.0  0.0  0.0  0.0  0.0  0.0  0.0  0.0  0.0  0.0   0.0   0.0   0.0   \n",
      "M_17  0.0  0.0  0.0  0.0  0.0  0.0  0.0  0.0  0.0  0.0   0.0   0.0   0.0   \n",
      "M_18  0.0  0.0  0.0  0.0  0.0  0.0  0.0  0.0  0.0  0.0   0.0   0.0   0.0   \n",
      "M_19  0.0  0.0  0.0  0.0  0.0  0.0  0.0  0.0  0.0  0.0   0.0   0.0   0.0   \n",
      "\n",
      "      C_13  C_14  C_15  C_16  C_17  C_18  C_19  \n",
      "M_0    0.2   0.2   0.2   0.2   0.2   0.2   0.2  \n",
      "M_1    0.2   0.2   0.2   0.2   0.2   0.2   0.2  \n",
      "M_2    0.2   0.2   0.2   0.2   0.2   0.2   0.2  \n",
      "M_3    0.2   0.2   0.2   0.2   0.2   0.2   0.2  \n",
      "M_4    0.2   0.2   0.2   0.2   0.2   0.2   0.2  \n",
      "M_5    0.0   0.0   0.0   0.0   0.0   0.0   0.0  \n",
      "M_6    0.0   0.0   0.0   0.0   0.0   0.0   0.0  \n",
      "M_7    0.0   0.0   0.0   0.0   0.0   0.0   0.0  \n",
      "M_8    0.0   0.0   0.0   0.0   0.0   0.0   0.0  \n",
      "M_9    0.0   0.0   0.0   0.0   0.0   0.0   0.0  \n",
      "M_10   0.0   0.0   0.0   0.0   0.0   0.0   0.0  \n",
      "M_11   0.0   0.0   0.0   0.0   0.0   0.0   0.0  \n",
      "M_12   0.0   0.0   0.0   0.0   0.0   0.0   0.0  \n",
      "M_13   0.0   0.0   0.0   0.0   0.0   0.0   0.0  \n",
      "M_14   0.0   0.0   0.0   0.0   0.0   0.0   0.0  \n",
      "M_15   0.0   0.0   0.0   0.0   0.0   0.0   0.0  \n",
      "M_16   0.0   0.0   0.0   0.0   0.0   0.0   0.0  \n",
      "M_17   0.0   0.0   0.0   0.0   0.0   0.0   0.0  \n",
      "M_18   0.0   0.0   0.0   0.0   0.0   0.0   0.0  \n",
      "M_19   0.0   0.0   0.0   0.0   0.0   0.0   0.0  \n"
     ]
    }
   ],
   "source": [
    "improved_stochastic_function = create_improved_stochastic_function(conditional_probabilities)\n",
    "print(\"Покращена стохастична функція:\")\n",
    "print(improved_stochastic_function)"
   ]
  },
  {
   "cell_type": "code",
   "execution_count": null,
   "metadata": {},
   "outputs": [],
   "source": [
    "def calculate_average_loss_deterministic(joint_probabilities: pd.DataFrame, optimal_decisions: pd.Series) -> float:\n",
    "    if joint_probabilities.empty or optimal_decisions.empty:\n",
    "        print(\"Помилка: Вхідні дані для розрахунку середніх втрат відсутні.\")\n",
    "        return 0.0\n",
    "\n",
    "    total_correct_prob = 0.0\n",
    "    \n",
    "    for m_label, c_label in optimal_decisions.items():\n",
    "        total_correct_prob += joint_probabilities.loc[m_label, c_label]\n",
    "                \n",
    "    return 1.0 - total_correct_prob"
   ]
  },
  {
   "cell_type": "code",
   "execution_count": null,
   "metadata": {},
   "outputs": [
    {
     "name": "stdout",
     "output_type": "stream",
     "text": [
      "\n",
      "Середні втрати для детермінованої функції: 0.951300000\n"
     ]
    }
   ],
   "source": [
    "avg_loss = calculate_average_loss_deterministic(joint_probabilities, optimal_decisions)\n",
    "print(f\"\\nСередні втрати для детермінованої функції: {avg_loss:.9f}\")"
   ]
  },
  {
   "cell_type": "code",
   "execution_count": null,
   "metadata": {},
   "outputs": [],
   "source": [
    "def calculate_average_loss_stochastic(joint_probabilities: pd.DataFrame, stochastic_function: pd.DataFrame) -> float:\n",
    "    # \\sum_{C_h} \\sum_{M_i} P(M_i \\mid C_h) \\left( \\sum_{M_j \\neq M_i} s(C_h, M_j) \\right)\n",
    "    if joint_probabilities.empty or stochastic_function.empty:\n",
    "        print(\"Помилка: Вхідні дані для розрахунку середніх втрат відсутні.\")\n",
    "        return 0.0\n",
    "    \n",
    "    loss_matrix = 1 - stochastic_function\n",
    "    total_loss_matrix = joint_probabilities * loss_matrix\n",
    "    \n",
    "    average_loss = total_loss_matrix.values.sum()\n",
    "    \n",
    "    return average_loss"
   ]
  },
  {
   "cell_type": "code",
   "execution_count": null,
   "metadata": {},
   "outputs": [
    {
     "name": "stdout",
     "output_type": "stream",
     "text": [
      "\n",
      "Середні втрати для стохастичної функції: 0.890000000\n"
     ]
    }
   ],
   "source": [
    "avg_loss_stoch = calculate_average_loss_stochastic(joint_probabilities, improved_stochastic_function)\n",
    "print(f\"\\nСередні втрати для стохастичної функції: {avg_loss_stoch:.9f}\")"
   ]
  }
 ],
 "metadata": {
  "kernelspec": {
   "display_name": ".venv",
   "language": "python",
   "name": "python3"
  },
  "language_info": {
   "codemirror_mode": {
    "name": "ipython",
    "version": 3
   },
   "file_extension": ".py",
   "mimetype": "text/x-python",
   "name": "python",
   "nbconvert_exporter": "python",
   "pygments_lexer": "ipython3",
   "version": "3.13.6"
  }
 },
 "nbformat": 4,
 "nbformat_minor": 2
}
